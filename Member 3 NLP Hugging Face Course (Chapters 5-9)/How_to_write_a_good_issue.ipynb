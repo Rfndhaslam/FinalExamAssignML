{
  "cells": [
    {
      "cell_type": "markdown",
      "metadata": {
        "id": "8S3cj4pGbMxI"
      },
      "source": [
        "# How to write a good issue"
      ]
    },
    {
      "cell_type": "markdown",
      "metadata": {
        "id": "lb6kBMmvbMxJ"
      },
      "source": [
        "Install the Transformers, Datasets, and Evaluate libraries to run this notebook."
      ]
    },
    {
      "cell_type": "code",
      "execution_count": null,
      "metadata": {
        "id": "tBmUU5WgbMxK"
      },
      "outputs": [],
      "source": [
        "!pip install datasets evaluate transformers[sentencepiece]"
      ]
    },
    {
      "cell_type": "code",
      "execution_count": null,
      "metadata": {
        "id": "BpJ_to8dbMxL"
      },
      "outputs": [],
      "source": []
    }
  ],
  "metadata": {
    "colab": {
      "name": "How to write a good issue",
      "provenance": []
    }
  },
  "nbformat": 4,
  "nbformat_minor": 0
}